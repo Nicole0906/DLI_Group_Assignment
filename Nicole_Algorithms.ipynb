{
  "cells": [
    {
      "cell_type": "markdown",
      "metadata": {
        "id": "view-in-github",
        "colab_type": "text"
      },
      "source": [
        "<a href=\"https://colab.research.google.com/github/Nicole0906/DLI_Group_Assignment/blob/main/Nicole_Algorithms.ipynb\" target=\"_parent\"><img src=\"https://colab.research.google.com/assets/colab-badge.svg\" alt=\"Open In Colab\"/></a>"
      ]
    },
    {
      "cell_type": "code",
      "execution_count": 1,
      "metadata": {
        "id": "TQQffc1Ndvnq",
        "colab": {
          "base_uri": "https://localhost:8080/"
        },
        "outputId": "6e212fce-8946-447a-9ae3-6428d9d6fbc9"
      },
      "outputs": [
        {
          "output_type": "stream",
          "name": "stdout",
          "text": [
            "Mounted at /content/gdrive\n"
          ]
        }
      ],
      "source": [
        "# Mount Google Drive\n",
        "from google.colab import drive\n",
        "drive.mount('/content/gdrive')\n",
        "\n",
        "# Change directory to the desired location in Google Drive\n",
        "import os\n",
        "os.chdir('/content/gdrive/MyDrive')\n"
      ]
    },
    {
      "cell_type": "markdown",
      "source": [
        "Traning Model"
      ],
      "metadata": {
        "id": "eFArG0Pdw0Qk"
      }
    },
    {
      "cell_type": "code",
      "source": [
        "# ==============================\n",
        "# STEP 1: Install dependencies\n",
        "# ==============================\n",
        "!pip install -q xgboost scikit-learn tabulate matplotlib seaborn\n",
        "\n",
        "# ==============================\n",
        "# STEP 2: Imports & Reproducibility\n",
        "# ==============================\n",
        "import os, random, time, subprocess\n",
        "import numpy as np\n",
        "import pandas as pd\n",
        "import xgboost as xgb\n",
        "from sklearn.model_selection import train_test_split\n",
        "from sklearn.metrics import classification_report, confusion_matrix, roc_auc_score, f1_score\n",
        "from sklearn.preprocessing import StandardScaler\n",
        "from sklearn.pipeline import Pipeline\n",
        "from tabulate import tabulate\n",
        "import matplotlib.pyplot as plt\n",
        "import seaborn as sns\n",
        "\n",
        "SEED = 42\n",
        "os.environ[\"PYTHONHASHSEED\"] = str(SEED)\n",
        "random.seed(SEED)\n",
        "np.random.seed(SEED)\n",
        "\n",
        "# ==============================\n",
        "# STEP 3: Download & Load dataset via wget from GitHub\n",
        "# ==============================\n",
        "DATA_URL = \"https://raw.githubusercontent.com/Nicole0906/DLI_Group_Assignment/main/Phishing_Legitimate_full%203.csv\"\n",
        "\n",
        "!wget -O phishing_dataset.csv \"$DATA_URL\"\n",
        "\n",
        "df = pd.read_csv(\"phishing_dataset.csv\")\n",
        "print(\"✅ Dataset downloaded & loaded successfully!\")\n",
        "print(\"Shape:\", df.shape)\n",
        "print(\"Columns:\", df.columns.tolist())\n",
        "print(df.head())\n",
        "\n",
        "# ==============================\n",
        "# STEP 4: Define features & target\n",
        "# ==============================\n",
        "X = df.drop(columns=[\"id\", \"CLASS_LABEL\"])\n",
        "y = df[\"CLASS_LABEL\"]\n",
        "unique_labels = sorted(y.unique())\n",
        "label_map = {0: \"Legitimate\", 1: \"Phishing\"}\n",
        "\n",
        "# ==============================\n",
        "# STEP 5: Train-test split\n",
        "# ==============================\n",
        "X_train, X_test, y_train, y_test = train_test_split(\n",
        "    X, y, test_size=0.2, random_state=SEED, stratify=y\n",
        ")\n",
        "\n",
        "# ==============================\n",
        "# STEP 6: Pipeline (Scaler + XGBoost)\n",
        "# ==============================\n",
        "xgb_model = xgb.XGBClassifier(\n",
        "    n_estimators=800,\n",
        "    learning_rate=0.03,\n",
        "    max_depth=8,\n",
        "    max_leaves=150,\n",
        "    subsample=0.95,\n",
        "    colsample_bytree=0.95,\n",
        "    gamma=0.1,\n",
        "    min_child_weight=2,\n",
        "    random_state=SEED,\n",
        "    eval_metric='logloss',\n",
        "    n_jobs=1,\n",
        "    reg_alpha=0.1,\n",
        "    reg_lambda=1.0,\n",
        "    max_delta_step=1\n",
        ")\n",
        "\n",
        "pipeline = Pipeline([\n",
        "    ('scaler', StandardScaler()),\n",
        "    ('model',  xgb_model)\n",
        "])\n",
        "\n",
        "print(\"\\n🚀 Training Pipeline (Scaler + XGBoost)...\")\n",
        "pipeline.fit(X_train, y_train)\n",
        "\n",
        "# ==============================\n",
        "# STEP 7: Threshold tuning\n",
        "# ==============================\n",
        "start = time.time()\n",
        "y_prob  = pipeline.predict_proba(X_test)[:,1]\n",
        "inference_time = ((time.time() - start) / len(y_test)) * 1000.0\n",
        "\n",
        "best_th, best_f1 = 0.5, 0\n",
        "for th in np.arange(0.30, 0.71, 0.01):\n",
        "    f1 = f1_score(y_test, (y_prob >= th).astype(int))\n",
        "    if f1 > best_f1:\n",
        "        best_f1, best_th = f1, th\n",
        "\n",
        "y_pred_best = (y_prob >= best_th).astype(int)\n",
        "report = classification_report(y_test, y_pred_best, output_dict=True, zero_division=0)\n",
        "roc_auc = round(roc_auc_score(y_test, y_prob), 3)\n",
        "\n",
        "# ==============================\n",
        "# STEP 8: Format Params (main only)\n",
        "# ==============================\n",
        "params_str = f\"trees={xgb_model.n_estimators}, max_depth={xgb_model.max_depth}\"\n",
        "\n",
        "# ==============================\n",
        "# STEP 9: Evaluation Table\n",
        "# ==============================\n",
        "results_table = [[\n",
        "    \"XGBoost (with scaling)\",\n",
        "    round(report[\"accuracy\"], 3),\n",
        "    round(report[\"weighted avg\"][\"precision\"], 3),\n",
        "    round(report[\"weighted avg\"][\"recall\"],    3),\n",
        "    round(report[\"weighted avg\"][\"f1-score\"],  3),\n",
        "    roc_auc,\n",
        "    params_str,            # ← main hyperparams only\n",
        "    round(inference_time, 3)\n",
        "]]\n",
        "\n",
        "headers = [\"Model\",\"Accuracy\",\"Precision\",\"Recall\",\"F1\",\"ROC-AUC\",\"Params\",\"Inference (ms)\"]\n",
        "print(tabulate(results_table, headers=headers, tablefmt=\"grid\"))\n",
        "print(f\"\\nBest F1 = {best_f1:.3f}  @ Threshold = {best_th:.2f}\")\n",
        "\n",
        "# ==============================\n",
        "# STEP 10: Confusion Matrix\n",
        "# ==============================\n",
        "cm = confusion_matrix(y_test, y_pred_best)\n",
        "plt.figure(figsize=(6,5))\n",
        "sns.heatmap(cm, annot=True, fmt='d', cmap='Blues',\n",
        "            xticklabels=[label_map[i] for i in sorted(unique_labels)],\n",
        "            yticklabels=[label_map[i] for i in sorted(unique_labels)])\n",
        "plt.xlabel(\"Predicted Label\")\n",
        "plt.ylabel(\"True Label\")\n",
        "plt.title(\"Confusion Matrix (Best Threshold)\")\n",
        "plt.show()\n"
      ],
      "metadata": {
        "colab": {
          "base_uri": "https://localhost:8080/",
          "height": 1000
        },
        "id": "VpmfDVR5w34O",
        "outputId": "5f33d559-6498-470e-e25c-fd37f30bda48"
      },
      "execution_count": 2,
      "outputs": [
        {
          "output_type": "stream",
          "name": "stdout",
          "text": [
            "--2025-08-22 08:33:03--  https://raw.githubusercontent.com/Nicole0906/DLI_Group_Assignment/main/Phishing_Legitimate_full%203.csv\n",
            "Resolving raw.githubusercontent.com (raw.githubusercontent.com)... 185.199.108.133, 185.199.109.133, 185.199.110.133, ...\n",
            "Connecting to raw.githubusercontent.com (raw.githubusercontent.com)|185.199.108.133|:443... connected.\n",
            "HTTP request sent, awaiting response... 200 OK\n",
            "Length: 1406307 (1.3M) [text/plain]\n",
            "Saving to: ‘phishing_dataset.csv’\n",
            "\n",
            "phishing_dataset.cs 100%[===================>]   1.34M  --.-KB/s    in 0.07s   \n",
            "\n",
            "2025-08-22 08:33:04 (19.4 MB/s) - ‘phishing_dataset.csv’ saved [1406307/1406307]\n",
            "\n",
            "✅ Dataset downloaded & loaded successfully!\n",
            "Shape: (10000, 50)\n",
            "Columns: ['id', 'NumDots', 'SubdomainLevel', 'PathLevel', 'UrlLength', 'NumDash', 'NumDashInHostname', 'AtSymbol', 'TildeSymbol', 'NumUnderscore', 'NumPercent', 'NumQueryComponents', 'NumAmpersand', 'NumHash', 'NumNumericChars', 'NoHttps', 'RandomString', 'IpAddress', 'DomainInSubdomains', 'DomainInPaths', 'HttpsInHostname', 'HostnameLength', 'PathLength', 'QueryLength', 'DoubleSlashInPath', 'NumSensitiveWords', 'EmbeddedBrandName', 'PctExtHyperlinks', 'PctExtResourceUrls', 'ExtFavicon', 'InsecureForms', 'RelativeFormAction', 'ExtFormAction', 'AbnormalFormAction', 'PctNullSelfRedirectHyperlinks', 'FrequentDomainNameMismatch', 'FakeLinkInStatusBar', 'RightClickDisabled', 'PopUpWindow', 'SubmitInfoToEmail', 'IframeOrFrame', 'MissingTitle', 'ImagesOnlyInForm', 'SubdomainLevelRT', 'UrlLengthRT', 'PctExtResourceUrlsRT', 'AbnormalExtFormActionR', 'ExtMetaScriptLinkRT', 'PctExtNullSelfRedirectHyperlinksRT', 'CLASS_LABEL']\n",
            "   id  NumDots  SubdomainLevel  PathLevel  UrlLength  NumDash  \\\n",
            "0   1        3               1          5         72        0   \n",
            "1   2        3               1          3        144        0   \n",
            "2   3        3               1          2         58        0   \n",
            "3   4        3               1          6         79        1   \n",
            "4   5        3               0          4         46        0   \n",
            "\n",
            "   NumDashInHostname  AtSymbol  TildeSymbol  NumUnderscore  ...  \\\n",
            "0                  0         0            0              0  ...   \n",
            "1                  0         0            0              2  ...   \n",
            "2                  0         0            0              0  ...   \n",
            "3                  0         0            0              0  ...   \n",
            "4                  0         0            0              0  ...   \n",
            "\n",
            "   IframeOrFrame  MissingTitle  ImagesOnlyInForm  SubdomainLevelRT  \\\n",
            "0              0             0                 1                 1   \n",
            "1              0             0                 0                 1   \n",
            "2              0             0                 0                 1   \n",
            "3              0             0                 0                 1   \n",
            "4              1             0                 0                 1   \n",
            "\n",
            "   UrlLengthRT  PctExtResourceUrlsRT  AbnormalExtFormActionR  \\\n",
            "0            0                     1                       1   \n",
            "1           -1                     1                       1   \n",
            "2            0                    -1                       1   \n",
            "3           -1                     1                       1   \n",
            "4            1                    -1                       0   \n",
            "\n",
            "   ExtMetaScriptLinkRT  PctExtNullSelfRedirectHyperlinksRT  CLASS_LABEL  \n",
            "0                   -1                                   1            1  \n",
            "1                    1                                   1            1  \n",
            "2                   -1                                   0            1  \n",
            "3                    1                                  -1            1  \n",
            "4                   -1                                  -1            1  \n",
            "\n",
            "[5 rows x 50 columns]\n",
            "\n",
            "🚀 Training Pipeline (Scaler + XGBoost)...\n",
            "+------------------------+------------+-------------+----------+-------+-----------+------------------------+------------------+\n",
            "| Model                  |   Accuracy |   Precision |   Recall |    F1 |   ROC-AUC | Params                 |   Inference (ms) |\n",
            "+========================+============+=============+==========+=======+===========+========================+==================+\n",
            "| XGBoost (with scaling) |      0.988 |       0.988 |    0.988 | 0.988 |     0.999 | trees=800, max_depth=8 |            0.031 |\n",
            "+------------------------+------------+-------------+----------+-------+-----------+------------------------+------------------+\n",
            "\n",
            "Best F1 = 0.988  @ Threshold = 0.36\n"
          ]
        },
        {
          "output_type": "display_data",
          "data": {
            "text/plain": [
              "<Figure size 600x500 with 2 Axes>"
            ],
            "image/png": "[encoded data removed]"
          },
          "metadata": {}
        }
      ]
    },
    {
      "cell_type": "code",
      "source": [],
      "metadata": {
        "id": "kNC7as-FvYNc"
      },
      "execution_count": null,
      "outputs": []
    }
  ],
  "metadata": {
    "colab": {
      "provenance": [],
      "include_colab_link": true
    },
    "kernelspec": {
      "display_name": "Python 3",
      "name": "python3"
    },
    "language_info": {
      "name": "python"
    }
  },
  "nbformat": 4,
  "nbformat_minor": 0
}