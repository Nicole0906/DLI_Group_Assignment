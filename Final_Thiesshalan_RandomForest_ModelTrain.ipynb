{
  "nbformat": 4,
  "nbformat_minor": 0,
  "metadata": {
    "colab": {
      "provenance": [],
      "authorship_tag": "ABX9TyNzgAqUWw+XcEz7GXzsCp8p",
      "include_colab_link": true
    },
    "kernelspec": {
      "name": "python3",
      "display_name": "Python 3"
    },
    "language_info": {
      "name": "python"
    }
  },
  "cells": [
    {
      "cell_type": "markdown",
      "metadata": {
        "id": "view-in-github",
        "colab_type": "text"
      },
      "source": [
        "<a href=\"https://colab.research.google.com/github/Nicole0906/DLI_Group_Assignment/blob/main/Final_Thiesshalan_RandomForest_ModelTrain.ipynb\" target=\"_parent\"><img src=\"https://colab.research.google.com/assets/colab-badge.svg\" alt=\"Open In Colab\"/></a>"
      ]
    },
    {
      "cell_type": "code",
      "execution_count": null,
      "metadata": {
        "id": "AoXdvbxhzY_9"
      },
      "outputs": [],
      "source": []
    },
    {
      "cell_type": "markdown",
      "source": [
        "1) Setup"
      ],
      "metadata": {
        "id": "gIp_JBRMjoD1"
      }
    },
    {
      "cell_type": "code",
      "source": [
        "# ==============================\n",
        "# 1) Setup\n",
        "# ==============================\n",
        "!pip install -q tabulate  # only needed package not in Colab by default\n",
        "\n",
        "import os, random, time, subprocess, sys, pathlib\n",
        "import numpy as np\n",
        "import pandas as pd\n",
        "from tabulate import tabulate\n",
        "import matplotlib.pyplot as plt\n",
        "import seaborn as sns\n",
        "\n",
        "from sklearn.model_selection import train_test_split\n",
        "from sklearn.ensemble import RandomForestClassifier\n",
        "from sklearn.metrics import (\n",
        "    classification_report, confusion_matrix, roc_auc_score, f1_score,\n",
        "    precision_recall_fscore_support, roc_curve\n",
        ")\n",
        "import joblib\n",
        "\n",
        "# Reproducibility\n",
        "SEED = 42\n",
        "os.environ[\"PYTHONHASHSEED\"] = str(SEED)\n",
        "random.seed(SEED)\n",
        "np.random.seed(SEED)\n",
        "\n",
        "# (Colab) Mount Drive for backup (not for datasets)\n",
        "from google.colab import drive\n",
        "drive.mount('/content/gdrive', force_remount=True)\n",
        "\n",
        "print(\"✅ Setup complete. Working dir:\", os.getcwd())\n",
        "print(\"💾 Google Drive mounted at /content/gdrive (for backup only)\")\n",
        "\n"
      ],
      "metadata": {
        "colab": {
          "base_uri": "https://localhost:8080/"
        },
        "id": "72oslPCxjqUV",
        "outputId": "e3495aa3-55ca-4e5e-bb6c-d1f9e7a1e55a"
      },
      "execution_count": null,
      "outputs": [
        {
          "output_type": "stream",
          "name": "stdout",
          "text": [
            "Mounted at /content/gdrive\n",
            "✅ Setup complete. Working dir: /content\n",
            "💾 Google Drive mounted at /content/gdrive (for backup only)\n"
          ]
        }
      ]
    },
    {
      "cell_type": "markdown",
      "source": [
        "2) Data Loading"
      ],
      "metadata": {
        "id": "1YQeJbjqGsk1"
      }
    },
    {
      "cell_type": "code",
      "source": [
        "# ==============================\n",
        "# 2) Data Loading (via GitHub raw CSV)\n",
        "# ==============================\n",
        "import os\n",
        "import pandas as pd\n",
        "\n",
        "# Direct raw CSV link from GitHub\n",
        "DATA_URL = \"https://raw.githubusercontent.com/Nicole0906/DLI_Group_Assignment/main/Phishing_Legitimate_full%203.csv\"\n",
        "LOCAL_FILE = \"phishing_dataset.csv\"\n",
        "\n",
        "def load_dataset():\n",
        "    if not os.path.exists(LOCAL_FILE):\n",
        "        print(\"⬇️  Downloading dataset from GitHub …\")\n",
        "        os.system(f\"wget -q -O {LOCAL_FILE} {DATA_URL}\")\n",
        "    else:\n",
        "        print(\"📂 Using cached local dataset:\", LOCAL_FILE)\n",
        "    print(\"📦 Loading dataset into DataFrame …\")\n",
        "    return pd.read_csv(LOCAL_FILE), \"GitHub\"\n",
        "\n",
        "df, DATA_SRC = load_dataset()\n",
        "print(f\"✅ Dataset loaded from {DATA_SRC}. Shape: {df.shape}\")\n",
        "display(df.head(3))\n",
        "\n"
      ],
      "metadata": {
        "colab": {
          "base_uri": "https://localhost:8080/",
          "height": 245
        },
        "id": "Fk7JqJDzrhTI",
        "outputId": "82ba8a52-a2cb-48e2-f198-c8e527425065"
      },
      "execution_count": null,
      "outputs": [
        {
          "output_type": "stream",
          "name": "stdout",
          "text": [
            "📂 Using cached local dataset: phishing_dataset.csv\n",
            "📦 Loading dataset into DataFrame …\n",
            "✅ Dataset loaded from GitHub. Shape: (10000, 50)\n"
          ]
        },
        {
          "output_type": "display_data",
          "data": {
            "text/plain": [
              "   id  NumDots  SubdomainLevel  PathLevel  UrlLength  NumDash  \\\n",
              "0   1        3               1          5         72        0   \n",
              "1   2        3               1          3        144        0   \n",
              "2   3        3               1          2         58        0   \n",
              "\n",
              "   NumDashInHostname  AtSymbol  TildeSymbol  NumUnderscore  ...  \\\n",
              "0                  0         0            0              0  ...   \n",
              "1                  0         0            0              2  ...   \n",
              "2                  0         0            0              0  ...   \n",
              "\n",
              "   IframeOrFrame  MissingTitle  ImagesOnlyInForm  SubdomainLevelRT  \\\n",
              "0              0             0                 1                 1   \n",
              "1              0             0                 0                 1   \n",
              "2              0             0                 0                 1   \n",
              "\n",
              "   UrlLengthRT  PctExtResourceUrlsRT  AbnormalExtFormActionR  \\\n",
              "0            0                     1                       1   \n",
              "1           -1                     1                       1   \n",
              "2            0                    -1                       1   \n",
              "\n",
              "   ExtMetaScriptLinkRT  PctExtNullSelfRedirectHyperlinksRT  CLASS_LABEL  \n",
              "0                   -1                                   1            1  \n",
              "1                    1                                   1            1  \n",
              "2                   -1                                   0            1  \n",
              "\n",
              "[3 rows x 50 columns]"
            ],
            "text/html": [
              "\n",
              "  <div id=\"df-a5f9192b-a543-44e8-a75b-d7362f848e54\" class=\"colab-df-container\">\n",
              "    <div>\n",
              "<style scoped>\n",
              "    .dataframe tbody tr th:only-of-type {\n",
              "        vertical-align: middle;\n",
              "    }\n",
              "\n",
              "    .dataframe tbody tr th {\n",
              "        vertical-align: top;\n",
              "    }\n",
              "\n",
              "    .dataframe thead th {\n",
              "        text-align: right;\n",
              "    }\n",
              "</style>\n",
              "<table border=\"1\" class=\"dataframe\">\n",
              "  <thead>\n",
              "    <tr style=\"text-align: right;\">\n",
              "      <th></th>\n",
              "      <th>id</th>\n",
              "      <th>NumDots</th>\n",
              "      <th>SubdomainLevel</th>\n",
              "      <th>PathLevel</th>\n",
              "      <th>UrlLength</th>\n",
              "      <th>NumDash</th>\n",
              "      <th>NumDashInHostname</th>\n",
              "      <th>AtSymbol</th>\n",
              "      <th>TildeSymbol</th>\n",
              "      <th>NumUnderscore</th>\n",
              "      <th>...</th>\n",
              "      <th>IframeOrFrame</th>\n",
              "      <th>MissingTitle</th>\n",
              "      <th>ImagesOnlyInForm</th>\n",
              "      <th>SubdomainLevelRT</th>\n",
              "      <th>UrlLengthRT</th>\n",
              "      <th>PctExtResourceUrlsRT</th>\n",
              "      <th>AbnormalExtFormActionR</th>\n",
              "      <th>ExtMetaScriptLinkRT</th>\n",
              "      <th>PctExtNullSelfRedirectHyperlinksRT</th>\n",
              "      <th>CLASS_LABEL</th>\n",
              "    </tr>\n",
              "  </thead>\n",
              "  <tbody>\n",
              "    <tr>\n",
              "      <th>0</th>\n",
              "      <td>1</td>\n",
              "      <td>3</td>\n",
              "      <td>1</td>\n",
              "      <td>5</td>\n",
              "      <td>72</td>\n",
              "      <td>0</td>\n",
              "      <td>0</td>\n",
              "      <td>0</td>\n",
              "      <td>0</td>\n",
              "      <td>0</td>\n",
              "      <td>...</td>\n",
              "      <td>0</td>\n",
              "      <td>0</td>\n",
              "      <td>1</td>\n",
              "      <td>1</td>\n",
              "      <td>0</td>\n",
              "      <td>1</td>\n",
              "      <td>1</td>\n",
              "      <td>-1</td>\n",
              "      <td>1</td>\n",
              "      <td>1</td>\n",
              "    </tr>\n",
              "    <tr>\n",
              "      <th>1</th>\n",
              "      <td>2</td>\n",
              "      <td>3</td>\n",
              "      <td>1</td>\n",
              "      <td>3</td>\n",
              "      <td>144</td>\n",
              "      <td>0</td>\n",
              "      <td>0</td>\n",
              "      <td>0</td>\n",
              "      <td>0</td>\n",
              "      <td>2</td>\n",
              "      <td>...</td>\n",
              "      <td>0</td>\n",
              "      <td>0</td>\n",
              "      <td>0</td>\n",
              "      <td>1</td>\n",
              "      <td>-1</td>\n",
              "      <td>1</td>\n",
              "      <td>1</td>\n",
              "      <td>1</td>\n",
              "      <td>1</td>\n",
              "      <td>1</td>\n",
              "    </tr>\n",
              "    <tr>\n",
              "      <th>2</th>\n",
              "      <td>3</td>\n",
              "      <td>3</td>\n",
              "      <td>1</td>\n",
              "      <td>2</td>\n",
              "      <td>58</td>\n",
              "      <td>0</td>\n",
              "      <td>0</td>\n",
              "      <td>0</td>\n",
              "      <td>0</td>\n",
              "      <td>0</td>\n",
              "      <td>...</td>\n",
              "      <td>0</td>\n",
              "      <td>0</td>\n",
              "      <td>0</td>\n",
              "      <td>1</td>\n",
              "      <td>0</td>\n",
              "      <td>-1</td>\n",
              "      <td>1</td>\n",
              "      <td>-1</td>\n",
              "      <td>0</td>\n",
              "      <td>1</td>\n",
              "    </tr>\n",
              "  </tbody>\n",
              "</table>\n",
              "<p>3 rows × 50 columns</p>\n",
              "</div>\n",
              "    <div class=\"colab-df-buttons\">\n",
              "\n",
              "  <div class=\"colab-df-container\">\n",
              "    <button class=\"colab-df-convert\" onclick=\"convertToInteractive('df-a5f9192b-a543-44e8-a75b-d7362f848e54')\"\n",
              "            title=\"Convert this dataframe to an interactive table.\"\n",
              "            style=\"display:none;\">\n",
              "\n",
              "  <svg xmlns=\"http://www.w3.org/2000/svg\" height=\"24px\" viewBox=\"0 -960 960 960\">\n",
              "    <path d=\"M120-120v-720h720v720H120Zm60-500h600v-160H180v160Zm220 220h160v-160H400v160Zm0 220h160v-160H400v160ZM180-400h160v-160H180v160Zm440 0h160v-160H620v160ZM180-180h160v-160H180v160Zm440 0h160v-160H620v160Z\"/>\n",
              "  </svg>\n",
              "    </button>\n",
              "\n",
              "  <style>\n",
              "    .colab-df-container {\n",
              "      display:flex;\n",
              "      gap: 12px;\n",
              "    }\n",
              "\n",
              "    .colab-df-convert {\n",
              "      background-color: #E8F0FE;\n",
              "      border: none;\n",
              "      border-radius: 50%;\n",
              "      cursor: pointer;\n",
              "      display: none;\n",
              "      fill: #1967D2;\n",
              "      height: 32px;\n",
              "      padding: 0 0 0 0;\n",
              "      width: 32px;\n",
              "    }\n",
              "\n",
              "    .colab-df-convert:hover {\n",
              "      background-color: #E2EBFA;\n",
              "      box-shadow: 0px 1px 2px rgba(60, 64, 67, 0.3), 0px 1px 3px 1px rgba(60, 64, 67, 0.15);\n",
              "      fill: #174EA6;\n",
              "    }\n",
              "\n",
              "    .colab-df-buttons div {\n",
              "      margin-bottom: 4px;\n",
              "    }\n",
              "\n",
              "    [theme=dark] .colab-df-convert {\n",
              "      background-color: #3B4455;\n",
              "      fill: #D2E3FC;\n",
              "    }\n",
              "\n",
              "    [theme=dark] .colab-df-convert:hover {\n",
              "      background-color: #434B5C;\n",
              "      box-shadow: 0px 1px 3px 1px rgba(0, 0, 0, 0.15);\n",
              "      filter: drop-shadow(0px 1px 2px rgba(0, 0, 0, 0.3));\n",
              "      fill: #FFFFFF;\n",
              "    }\n",
              "  </style>\n",
              "\n",
              "    <script>\n",
              "      const buttonEl =\n",
              "        document.querySelector('#df-a5f9192b-a543-44e8-a75b-d7362f848e54 button.colab-df-convert');\n",
              "      buttonEl.style.display =\n",
              "        google.colab.kernel.accessAllowed ? 'block' : 'none';\n",
              "\n",
              "      async function convertToInteractive(key) {\n",
              "        const element = document.querySelector('#df-a5f9192b-a543-44e8-a75b-d7362f848e54');\n",
              "        const dataTable =\n",
              "          await google.colab.kernel.invokeFunction('convertToInteractive',\n",
              "                                                    [key], {});\n",
              "        if (!dataTable) return;\n",
              "\n",
              "        const docLinkHtml = 'Like what you see? Visit the ' +\n",
              "          '<a target=\"_blank\" href=https://colab.research.google.com/notebooks/data_table.ipynb>data table notebook</a>'\n",
              "          + ' to learn more about interactive tables.';\n",
              "        element.innerHTML = '';\n",
              "        dataTable['output_type'] = 'display_data';\n",
              "        await google.colab.output.renderOutput(dataTable, element);\n",
              "        const docLink = document.createElement('div');\n",
              "        docLink.innerHTML = docLinkHtml;\n",
              "        element.appendChild(docLink);\n",
              "      }\n",
              "    </script>\n",
              "  </div>\n",
              "\n",
              "\n",
              "    <div id=\"df-04a445a0-b8fa-488a-b907-4d6cb12d12ee\">\n",
              "      <button class=\"colab-df-quickchart\" onclick=\"quickchart('df-04a445a0-b8fa-488a-b907-4d6cb12d12ee')\"\n",
              "                title=\"Suggest charts\"\n",
              "                style=\"display:none;\">\n",
              "\n",
              "<svg xmlns=\"http://www.w3.org/2000/svg\" height=\"24px\"viewBox=\"0 0 24 24\"\n",
              "     width=\"24px\">\n",
              "    <g>\n",
              "        <path d=\"M19 3H5c-1.1 0-2 .9-2 2v14c0 1.1.9 2 2 2h14c1.1 0 2-.9 2-2V5c0-1.1-.9-2-2-2zM9 17H7v-7h2v7zm4 0h-2V7h2v10zm4 0h-2v-4h2v4z\"/>\n",
              "    </g>\n",
              "</svg>\n",
              "      </button>\n",
              "\n",
              "<style>\n",
              "  .colab-df-quickchart {\n",
              "      --bg-color: #E8F0FE;\n",
              "      --fill-color: #1967D2;\n",
              "      --hover-bg-color: #E2EBFA;\n",
              "      --hover-fill-color: #174EA6;\n",
              "      --disabled-fill-color: #AAA;\n",
              "      --disabled-bg-color: #DDD;\n",
              "  }\n",
              "\n",
              "  [theme=dark] .colab-df-quickchart {\n",
              "      --bg-color: #3B4455;\n",
              "      --fill-color: #D2E3FC;\n",
              "      --hover-bg-color: #434B5C;\n",
              "      --hover-fill-color: #FFFFFF;\n",
              "      --disabled-bg-color: #3B4455;\n",
              "      --disabled-fill-color: #666;\n",
              "  }\n",
              "\n",
              "  .colab-df-quickchart {\n",
              "    background-color: var(--bg-color);\n",
              "    border: none;\n",
              "    border-radius: 50%;\n",
              "    cursor: pointer;\n",
              "    display: none;\n",
              "    fill: var(--fill-color);\n",
              "    height: 32px;\n",
              "    padding: 0;\n",
              "    width: 32px;\n",
              "  }\n",
              "\n",
              "  .colab-df-quickchart:hover {\n",
              "    background-color: var(--hover-bg-color);\n",
              "    box-shadow: 0 1px 2px rgba(60, 64, 67, 0.3), 0 1px 3px 1px rgba(60, 64, 67, 0.15);\n",
              "    fill: var(--button-hover-fill-color);\n",
              "  }\n",
              "\n",
              "  .colab-df-quickchart-complete:disabled,\n",
              "  .colab-df-quickchart-complete:disabled:hover {\n",
              "    background-color: var(--disabled-bg-color);\n",
              "    fill: var(--disabled-fill-color);\n",
              "    box-shadow: none;\n",
              "  }\n",
              "\n",
              "  .colab-df-spinner {\n",
              "    border: 2px solid var(--fill-color);\n",
              "    border-color: transparent;\n",
              "    border-bottom-color: var(--fill-color);\n",
              "    animation:\n",
              "      spin 1s steps(1) infinite;\n",
              "  }\n",
              "\n",
              "  @keyframes spin {\n",
              "    0% {\n",
              "      border-color: transparent;\n",
              "      border-bottom-color: var(--fill-color);\n",
              "      border-left-color: var(--fill-color);\n",
              "    }\n",
              "    20% {\n",
              "      border-color: transparent;\n",
              "      border-left-color: var(--fill-color);\n",
              "      border-top-color: var(--fill-color);\n",
              "    }\n",
              "    30% {\n",
              "      border-color: transparent;\n",
              "      border-left-color: var(--fill-color);\n",
              "      border-top-color: var(--fill-color);\n",
              "      border-right-color: var(--fill-color);\n",
              "    }\n",
              "    40% {\n",
              "      border-color: transparent;\n",
              "      border-right-color: var(--fill-color);\n",
              "      border-top-color: var(--fill-color);\n",
              "    }\n",
              "    60% {\n",
              "      border-color: transparent;\n",
              "      border-right-color: var(--fill-color);\n",
              "    }\n",
              "    80% {\n",
              "      border-color: transparent;\n",
              "      border-right-color: var(--fill-color);\n",
              "      border-bottom-color: var(--fill-color);\n",
              "    }\n",
              "    90% {\n",
              "      border-color: transparent;\n",
              "      border-bottom-color: var(--fill-color);\n",
              "    }\n",
              "  }\n",
              "</style>\n",
              "\n",
              "      <script>\n",
              "        async function quickchart(key) {\n",
              "          const quickchartButtonEl =\n",
              "            document.querySelector('#' + key + ' button');\n",
              "          quickchartButtonEl.disabled = true;  // To prevent multiple clicks.\n",
              "          quickchartButtonEl.classList.add('colab-df-spinner');\n",
              "          try {\n",
              "            const charts = await google.colab.kernel.invokeFunction(\n",
              "                'suggestCharts', [key], {});\n",
              "          } catch (error) {\n",
              "            console.error('Error during call to suggestCharts:', error);\n",
              "          }\n",
              "          quickchartButtonEl.classList.remove('colab-df-spinner');\n",
              "          quickchartButtonEl.classList.add('colab-df-quickchart-complete');\n",
              "        }\n",
              "        (() => {\n",
              "          let quickchartButtonEl =\n",
              "            document.querySelector('#df-04a445a0-b8fa-488a-b907-4d6cb12d12ee button');\n",
              "          quickchartButtonEl.style.display =\n",
              "            google.colab.kernel.accessAllowed ? 'block' : 'none';\n",
              "        })();\n",
              "      </script>\n",
              "    </div>\n",
              "\n",
              "    </div>\n",
              "  </div>\n"
            ],
            "application/vnd.google.colaboratory.intrinsic+json": {
              "type": "dataframe"
            }
          },
          "metadata": {}
        }
      ]
    },
    {
      "cell_type": "markdown",
      "source": [
        "3) Pre-Processing"
      ],
      "metadata": {
        "id": "BWFQOrAwloEi"
      }
    },
    {
      "cell_type": "code",
      "source": [
        "# ==============================\n",
        "# 3) Pre-processing\n",
        "# ==============================\n",
        "# Lecturer requirements: show class counts and feature list, handle labels, balancing strategy if needed.\n",
        "\n",
        "TARGET_COL = \"CLASS_LABEL\"\n",
        "\n",
        "# 3.1 Ensure target exists\n",
        "assert TARGET_COL in df.columns, f\"{TARGET_COL} not in columns!\"\n",
        "\n",
        "# 3.2 Convert labels {-1,1} -> {0,1} if found\n",
        "if set(df[TARGET_COL].unique()) == {-1, 1} or -1 in set(df[TARGET_COL].unique()):\n",
        "    print(\"🔄 Converting labels -1→0, 1→1\")\n",
        "    df[TARGET_COL] = df[TARGET_COL].replace({-1: 0, 1: 1})\n",
        "\n",
        "# 3.3 Drop ID-like columns if present\n",
        "ID_COLS = [c for c in [\"id\", \"ID\", \"Id\"] if c in df.columns]\n",
        "X = df.drop(columns=ID_COLS + [TARGET_COL])\n",
        "y = df[TARGET_COL]\n",
        "\n",
        "# 3.4 Feature & class summary\n",
        "feature_list = X.columns.tolist()\n",
        "class_counts = y.value_counts().sort_index()\n",
        "class_table = [[lbl, int(class_counts.get(lbl, 0))] for lbl in sorted(class_counts.index)]\n",
        "print(\"\\n📊 Samples per class:\")\n",
        "print(tabulate(class_table, headers=[\"Class\", \"Count\"], tablefmt=\"grid\"))\n",
        "print(\"\\n🧰 Number of features:\", len(feature_list))\n",
        "print(\"📝 Feature list (first 20 shown):\\n\", feature_list[:20], (\"...\" if len(feature_list)>20 else \"\"))\n",
        "\n",
        "# 3.5 Simple imbalance check (positives should be reasonably represented)\n",
        "pos_rate = y.mean()\n",
        "print(f\"\\n⚖️  Positive class rate: {pos_rate:.3f}\")\n",
        "IMBALANCED = (pos_rate < 0.35) or (pos_rate > 0.65)\n",
        "\n",
        "# We’ll use class_weight='balanced' if imbalanced; otherwise, uniform weights.\n",
        "CLASS_WEIGHT = \"balanced\" if IMBALANCED else None\n",
        "print(f\"Class weighting: {CLASS_WEIGHT if CLASS_WEIGHT else 'None (dataset seems roughly balanced)'}\")\n",
        "\n",
        "# 3.6 Train/test split (stratified)\n",
        "X_train, X_test, y_train, y_test = train_test_split(\n",
        "    X, y, test_size=0.20, random_state=SEED, stratify=y\n",
        ")\n",
        "print(\"\\nSplit shapes:\", X_train.shape, X_test.shape)\n",
        "\n",
        "# NOTE (optional): If you prefer resampling instead of class_weight, you can use SMOTE/RandomUnderSampler.\n",
        "# That adds an extra dependency (imbalanced-learn) and time. For now we keep it light & fast.\n"
      ],
      "metadata": {
        "colab": {
          "base_uri": "https://localhost:8080/"
        },
        "id": "JEKZRw3Glur6",
        "outputId": "2aa845d9-2e01-4b0c-e84d-761c016079b8"
      },
      "execution_count": null,
      "outputs": [
        {
          "output_type": "stream",
          "name": "stdout",
          "text": [
            "\n",
            "📊 Samples per class:\n",
            "+---------+---------+\n",
            "|   Class |   Count |\n",
            "+=========+=========+\n",
            "|       0 |    5000 |\n",
            "+---------+---------+\n",
            "|       1 |    5000 |\n",
            "+---------+---------+\n",
            "\n",
            "🧰 Number of features: 48\n",
            "📝 Feature list (first 20 shown):\n",
            " ['NumDots', 'SubdomainLevel', 'PathLevel', 'UrlLength', 'NumDash', 'NumDashInHostname', 'AtSymbol', 'TildeSymbol', 'NumUnderscore', 'NumPercent', 'NumQueryComponents', 'NumAmpersand', 'NumHash', 'NumNumericChars', 'NoHttps', 'RandomString', 'IpAddress', 'DomainInSubdomains', 'DomainInPaths', 'HttpsInHostname'] ...\n",
            "\n",
            "⚖️  Positive class rate: 0.500\n",
            "Class weighting: None (dataset seems roughly balanced)\n",
            "\n",
            "Split shapes: (8000, 48) (2000, 48)\n"
          ]
        }
      ]
    },
    {
      "cell_type": "markdown",
      "source": [
        "4) Model (Random Forest)"
      ],
      "metadata": {
        "id": "RSwUmmqjlwsQ"
      }
    },
    {
      "cell_type": "code",
      "source": [
        "# ==============================\n",
        "# 4) Model (Random Forest)\n",
        "# ==============================\n",
        "# Fast + strong baseline for tabular phishing data. Tuned for <5 minutes runtime on Colab CPU.\n",
        "\n",
        "rf = RandomForestClassifier(\n",
        "    n_estimators=1000,        # good balance of accuracy/speed\n",
        "    max_depth=20,         # let trees grow; can set e.g. 20 if overfitting\n",
        "    min_samples_split=2,\n",
        "    min_samples_leaf=1,\n",
        "    max_features=\"sqrt\",    # typical RF default\n",
        "    bootstrap=True,\n",
        "    class_weight=CLASS_WEIGHT,  # auto if imbalanced\n",
        "    random_state=SEED,\n",
        "    n_jobs=-1               # use all CPU cores for speed\n",
        ")\n",
        "\n",
        "print(rf)\n"
      ],
      "metadata": {
        "colab": {
          "base_uri": "https://localhost:8080/"
        },
        "id": "vagC5VXilydF",
        "outputId": "cdd88239-d353-4d3f-f84e-de0a69f77f8a"
      },
      "execution_count": null,
      "outputs": [
        {
          "output_type": "stream",
          "name": "stdout",
          "text": [
            "RandomForestClassifier(max_depth=20, n_estimators=1000, n_jobs=-1,\n",
            "                       random_state=42)\n"
          ]
        }
      ]
    },
    {
      "cell_type": "markdown",
      "source": [
        "5) Training"
      ],
      "metadata": {
        "id": "Rd27cB30S3Tf"
      }
    },
    {
      "cell_type": "code",
      "source": [
        "# ==============================\n",
        "# 5) Training\n",
        "# ==============================\n",
        "start_train = time.time()\n",
        "rf.fit(X_train, y_train)\n",
        "train_time = time.time() - start_train\n",
        "print(f\"⏱️  Training done in {train_time:.2f}s\")\n",
        "\n",
        "# Optional: quick model size stats (approximate)\n",
        "num_nodes = sum(estimator.tree_.node_count for estimator in rf.estimators_)\n",
        "print(f\"🌲 Trees: {len(rf.estimators_)}, total nodes across forest: {num_nodes}\")\n"
      ],
      "metadata": {
        "colab": {
          "base_uri": "https://localhost:8080/"
        },
        "id": "ajNSUDToS5cM",
        "outputId": "c26b66b0-7814-40db-b4a8-0e32c44e2e7a"
      },
      "execution_count": null,
      "outputs": [
        {
          "output_type": "stream",
          "name": "stdout",
          "text": [
            "⏱️  Training done in 15.89s\n",
            "🌲 Trees: 1000, total nodes across forest: 767720\n"
          ]
        }
      ]
    },
    {
      "cell_type": "markdown",
      "source": [
        "6) Evaluation"
      ],
      "metadata": {
        "id": "3_zDQYcnX4TN"
      }
    },
    {
      "cell_type": "code",
      "source": [
        "# ==============================\n",
        "# 6) Evaluation\n",
        "# ==============================\n",
        "label_map = {0: \"Legitimate\", 1: \"Phishing\"}\n",
        "\n",
        "# 6.1 Probabilities & inference latency\n",
        "start_inf = time.time()\n",
        "y_prob = rf.predict_proba(X_test)[:, 1]\n",
        "inf_time_ms = (time.time() - start_inf) / len(X_test) * 1000.0\n",
        "print(f\"⚡ Inference latency: {inf_time_ms:.3f} ms/sample\")\n",
        "\n",
        "# 6.2 Threshold tuning for best F1\n",
        "best_th, best_f1 = 0.50, 0.0\n",
        "for th in np.arange(0.30, 0.71, 0.01):\n",
        "    y_tmp = (y_prob >= th).astype(int)\n",
        "    f1 = f1_score(y_test, y_tmp)\n",
        "    if f1 > best_f1:\n",
        "        best_f1, best_th = f1, th\n",
        "\n",
        "y_pred = (y_prob >= best_th).astype(int)\n",
        "print(f\"🎯 Best F1 = {best_f1:.3f} at threshold = {best_th:.2f}\")\n",
        "\n",
        "# 6.3 Metrics\n",
        "report = classification_report(y_test, y_pred, output_dict=True, zero_division=0)\n",
        "roc_auc = roc_auc_score(y_test, y_prob)\n",
        "\n",
        "# 6.4 Get params\n",
        "rf_params = rf.get_params()\n",
        "cw = rf_params[\"class_weight\"] if rf_params[\"class_weight\"] is not None else \"None\"\n",
        "\n",
        "# 6.5 Tabulated summary (with params)\n",
        "results_table = [[\n",
        "    \"RandomForest\",\n",
        "    round(report[\"accuracy\"], 3),\n",
        "    round(report[\"weighted avg\"][\"precision\"], 3),\n",
        "    round(report[\"weighted avg\"][\"recall\"], 3),\n",
        "    round(report[\"weighted avg\"][\"f1-score\"], 3),\n",
        "    round(roc_auc, 3),\n",
        "    num_nodes,\n",
        "    round(inf_time_ms, 3),\n",
        "    round(train_time, 2),\n",
        "    best_th,\n",
        "    rf_params[\"n_estimators\"],\n",
        "    rf_params[\"max_depth\"],\n",
        "    cw\n",
        "]]\n",
        "\n",
        "print(\"\\n📑 Final Results\")\n",
        "print(tabulate(\n",
        "    results_table,\n",
        "    headers=[\n",
        "        \"Model\",\"Accuracy\",\"Precision\",\"Recall\",\"F1\",\"ROC-AUC\",\n",
        "        \"Nodes\",\"Inf (ms)\",\"Train (s)\",\"Best Th\",\n",
        "        \"n_estimators\",\"max_depth\",\"class_weight\"\n",
        "    ],\n",
        "    tablefmt=\"grid\"\n",
        "))\n",
        "\n",
        "# 6.6 Confusion Matrix (visual 1)\n",
        "cm = confusion_matrix(y_test, y_pred, labels=[0,1])\n",
        "plt.figure(figsize=(6,5))\n",
        "sns.heatmap(cm, annot=True, fmt='d', cmap='Blues',\n",
        "            xticklabels=[label_map[0], label_map[1]],\n",
        "            yticklabels=[label_map[0], label_map[1]])\n",
        "plt.xlabel(\"Predicted\")\n",
        "plt.ylabel(\"True\")\n",
        "plt.title(\"Confusion Matrix (Best Threshold)\")\n",
        "plt.show()\n",
        "\n",
        "# 6.7 ROC Curve (visual 2)\n",
        "fpr, tpr, _ = roc_curve(y_test, y_prob)\n",
        "plt.figure(figsize=(6,5))\n",
        "plt.plot(fpr, tpr, linewidth=2)\n",
        "plt.plot([0,1],[0,1],'--', linewidth=1)\n",
        "plt.xlabel(\"False Positive Rate\")\n",
        "plt.ylabel(\"True Positive Rate\")\n",
        "plt.title(f\"ROC Curve (AUC = {roc_auc:.3f})\")\n",
        "plt.grid(True, alpha=0.3)\n",
        "plt.show()\n",
        "\n",
        "# 6.8 Precision-Recall Curve (visual 3)\n",
        "from sklearn.metrics import precision_recall_curve, average_precision_score\n",
        "prec, rec, _ = precision_recall_curve(y_test, y_prob)\n",
        "avg_prec = average_precision_score(y_test, y_prob)\n",
        "\n",
        "plt.figure(figsize=(6,5))\n",
        "plt.plot(rec, prec, linewidth=2, label=f\"AP = {avg_prec:.3f}\")\n",
        "plt.xlabel(\"Recall\")\n",
        "plt.ylabel(\"Precision\")\n",
        "plt.title(\"Precision-Recall Curve\")\n",
        "plt.legend()\n",
        "plt.grid(True, alpha=0.3)\n",
        "plt.show()\n",
        "\n"
      ],
      "metadata": {
        "id": "N8FE7lnRS-Ub",
        "colab": {
          "base_uri": "https://localhost:8080/",
          "height": 1000
        },
        "outputId": "f2df9c2c-c156-418b-a15f-808ad292ae92"
      },
      "execution_count": null,
      "outputs": [
        {
          "output_type": "stream",
          "name": "stdout",
          "text": [
            "⚡ Inference latency: 0.245 ms/sample\n",
            "🎯 Best F1 = 0.987 at threshold = 0.50\n",
            "\n",
            "📑 Final Results\n",
            "+--------------+------------+-------------+----------+-------+-----------+---------+------------+-------------+-----------+----------------+-------------+----------------+\n",
            "| Model        |   Accuracy |   Precision |   Recall |    F1 |   ROC-AUC |   Nodes |   Inf (ms) |   Train (s) |   Best Th |   n_estimators |   max_depth | class_weight   |\n",
            "+==============+============+=============+==========+=======+===========+=========+============+=============+===========+================+=============+================+\n",
            "| RandomForest |      0.988 |       0.988 |    0.988 | 0.987 |     0.999 |  767720 |      0.245 |       15.89 |       0.5 |           1000 |          20 | None           |\n",
            "+--------------+------------+-------------+----------+-------+-----------+---------+------------+-------------+-----------+----------------+-------------+----------------+\n"
          ]
        },
        {
          "output_type": "display_data",
          "data": {
            "text/plain": [
              "<Figure size 600x500 with 2 Axes>"
            ],
            "image/png": "[encoded data removed]"
          },
          "metadata": {}
        },
        {
          "output_type": "display_data",
          "data": {
            "text/plain": [
              "<Figure size 600x500 with 1 Axes>"
            ],
            "image/png": "[encoded data removed]"
          },
          "metadata": {}
        },
        {
          "output_type": "display_data",
          "data": {
            "text/plain": [
              "<Figure size 600x500 with 1 Axes>"
            ],
            "image/png": "[encoded data removed]"
          },
          "metadata": {}
        }
      ]
    },
    {
      "cell_type": "markdown",
      "source": [
        "7) Save Model"
      ],
      "metadata": {
        "id": "gAhdzThTj6m_"
      }
    },
    {
      "cell_type": "code",
      "source": [
        "# ==============================\n",
        "# 7) Save Model (Drive + Local Download)\n",
        "# ==============================\n",
        "from google.colab import files\n",
        "\n",
        "# Save to Google Drive (persistent backup)\n",
        "MODEL_PATH = \"/content/gdrive/MyDrive/Colab Notebooks/DLI_ASSIGNMENT/Thiesshalan_RandomForest_model.pkl\"\n",
        "joblib.dump(rf, MODEL_PATH)\n",
        "size_mb = os.path.getsize(MODEL_PATH) / (1024*1024)\n",
        "print(f\"💾 Model saved to Google Drive at: {MODEL_PATH}  (size: {size_mb:.2f} MB)\")\n",
        "\n",
        "# Also save a copy in Colab's local runtime\n",
        "LOCAL_PATH = \"Thiesshalan_RandomForest_model.pkl\"\n",
        "joblib.dump(rf, LOCAL_PATH)\n",
        "\n",
        "# Auto-download to your PC\n",
        "files.download(LOCAL_PATH)\n",
        "\n",
        "# One-line verdict\n",
        "TARGET_F1 = 0.98\n",
        "final_f1 = round(report[\"weighted avg\"][\"f1-score\"], 3)\n",
        "verdict = \"target met ✅\" if final_f1 >= TARGET_F1 else \"target not met ❌\"\n",
        "print(f\"\\nAchieved F1 = {final_f1}, target = {TARGET_F1} → {verdict}\")\n"
      ],
      "metadata": {
        "colab": {
          "base_uri": "https://localhost:8080/",
          "height": 86
        },
        "id": "fpHNBraWj8ho",
        "outputId": "7fa11b8b-bd00-477f-f4f6-c7f9f4f7e51c"
      },
      "execution_count": null,
      "outputs": [
        {
          "output_type": "stream",
          "name": "stdout",
          "text": [
            "💾 Model saved to Google Drive at: /content/gdrive/MyDrive/Colab Notebooks/DLI_ASSIGNMENT/Thiesshalan_RandomForest_model.pkl  (size: 58.96 MB)\n"
          ]
        },
        {
          "output_type": "display_data",
          "data": {
            "text/plain": [
              "<IPython.core.display.Javascript object>"
            ],
            "application/javascript": [
              "\n",
              "    async function download(id, filename, size) {\n",
              "      if (!google.colab.kernel.accessAllowed) {\n",
              "        return;\n",
              "      }\n",
              "      const div = document.createElement('div');\n",
              "      const label = document.createElement('label');\n",
              "      label.textContent = `Downloading \"${filename}\": `;\n",
              "      div.appendChild(label);\n",
              "      const progress = document.createElement('progress');\n",
              "      progress.max = size;\n",
              "      div.appendChild(progress);\n",
              "      document.body.appendChild(div);\n",
              "\n",
              "      const buffers = [];\n",
              "      let downloaded = 0;\n",
              "\n",
              "      const channel = await google.colab.kernel.comms.open(id);\n",
              "      // Send a message to notify the kernel that we're ready.\n",
              "      channel.send({})\n",
              "\n",
              "      for await (const message of channel.messages) {\n",
              "        // Send a message to notify the kernel that we're ready.\n",
              "        channel.send({})\n",
              "        if (message.buffers) {\n",
              "          for (const buffer of message.buffers) {\n",
              "            buffers.push(buffer);\n",
              "            downloaded += buffer.byteLength;\n",
              "            progress.value = downloaded;\n",
              "          }\n",
              "        }\n",
              "      }\n",
              "      const blob = new Blob(buffers, {type: 'application/binary'});\n",
              "      const a = document.createElement('a');\n",
              "      a.href = window.URL.createObjectURL(blob);\n",
              "      a.download = filename;\n",
              "      div.appendChild(a);\n",
              "      a.click();\n",
              "      div.remove();\n",
              "    }\n",
              "  "
            ]
          },
          "metadata": {}
        },
        {
          "output_type": "display_data",
          "data": {
            "text/plain": [
              "<IPython.core.display.Javascript object>"
            ],
            "application/javascript": [
              "download(\"download_14f248dd-0a41-4a7f-ad97-97acfffad4f8\", \"Thiesshalan_RandomForest_model.pkl\", 61820153)"
            ]
          },
          "metadata": {}
        },
        {
          "output_type": "stream",
          "name": "stdout",
          "text": [
            "\n",
            "Achieved F1 = 0.987, target = 0.98 → target met ✅\n"
          ]
        }
      ]
    }
  ]
}